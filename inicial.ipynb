{
 "cells": [
  {
   "cell_type": "markdown",
   "metadata": {},
   "source": [
    "# Projeto Python IA: Inteligência Artificial e Previsões\n",
    "\n",
    "### Case: Score de Crédito dos Clientes\n",
    "\n",
    "Você foi contratado por um banco para conseguir definir o score de crédito dos clientes. Você precisa analisar todos os clientes do banco e, com base nessa análise, criar um modelo que consiga ler as informações do cliente e dizer automaticamente o score de crédito dele: Ruim, Ok, Bom\n",
    "\n",
    "Arquivos da aula: https://drive.google.com/drive/folders/1FbDqVq4XLvU85VBlVIMJ73p9oOu6u2-J?usp=drive_link"
   ]
  },
  {
   "cell_type": "code",
   "execution_count": 2,
   "metadata": {},
   "outputs": [],
   "source": [
    "# PASSA A PASSO\n",
    "\n",
    "# Passo 0- entender o desafio da empresa\n",
    "# Passo 1- importar a base de dados / corrigir a base de dados\n",
    "# Passo 2- preparar a base de dados para a inteligência artificial\n",
    "# Passo 3- criar um modelo de IA -> score de crédito\n",
    "# Passo 4- escolher o melhor modelo\n",
    "# Passo 5- usar a nossa IA para fazer novas previsões\n"
   ]
  },
  {
   "cell_type": "code",
   "execution_count": 3,
   "metadata": {},
   "outputs": [
    {
     "name": "stdout",
     "output_type": "stream",
     "text": [
      "<class 'pandas.core.frame.DataFrame'>\n",
      "RangeIndex: 100000 entries, 0 to 99999\n",
      "Data columns (total 25 columns):\n",
      " #   Column                    Non-Null Count   Dtype  \n",
      "---  ------                    --------------   -----  \n",
      " 0   id_cliente                100000 non-null  int64  \n",
      " 1   mes                       100000 non-null  int64  \n",
      " 2   idade                     100000 non-null  float64\n",
      " 3   profissao                 100000 non-null  object \n",
      " 4   salario_anual             100000 non-null  float64\n",
      " 5   num_contas                100000 non-null  float64\n",
      " 6   num_cartoes               100000 non-null  float64\n",
      " 7   juros_emprestimo          100000 non-null  float64\n",
      " 8   num_emprestimos           100000 non-null  float64\n",
      " 9   dias_atraso               100000 non-null  float64\n",
      " 10  num_pagamentos_atrasados  100000 non-null  float64\n",
      " 11  num_verificacoes_credito  100000 non-null  float64\n",
      " 12  mix_credito               100000 non-null  object \n",
      " 13  divida_total              100000 non-null  float64\n",
      " 14  taxa_uso_credito          100000 non-null  float64\n",
      " 15  idade_historico_credito   100000 non-null  float64\n",
      " 16  investimento_mensal       100000 non-null  float64\n",
      " 17  comportamento_pagamento   100000 non-null  object \n",
      " 18  saldo_final_mes           100000 non-null  float64\n",
      " 19  score_credito             100000 non-null  object \n",
      " 20  emprestimo_carro          100000 non-null  int64  \n",
      " 21  emprestimo_casa           100000 non-null  int64  \n",
      " 22  emprestimo_pessoal        100000 non-null  int64  \n",
      " 23  emprestimo_credito        100000 non-null  int64  \n",
      " 24  emprestimo_estudantil     100000 non-null  int64  \n",
      "dtypes: float64(14), int64(7), object(4)\n",
      "memory usage: 19.1+ MB\n",
      "None\n"
     ]
    }
   ],
   "source": [
    "# PASSO 1- importar a base de dados/corrigir a base de dados\n",
    "import pandas as pd \n",
    "\n",
    "tabela = pd.read_csv(\"clientes.csv\")\n",
    "#display(tabela)\n",
    "print(tabela.info())"
   ]
  },
  {
   "cell_type": "code",
   "execution_count": 4,
   "metadata": {},
   "outputs": [],
   "source": [
    "# Passo 2- preparar a base de dados para a inteligência artificial\n",
    "\n",
    "# colunas com object -> transformar em números inteiro\n",
    "# profissao\n",
    "# mix_credito\n",
    "# comportamento_pagamento\n",
    "\n",
    "from sklearn.preprocessing import LabelEncoder\n",
    "\n",
    "codificador = LabelEncoder()\n",
    "\n",
    "# codificador -> aplica na coluna \"profissao\"\n",
    "tabela[\"profissao\"] = codificador.fit_transform(tabela[\"profissao\"])\n",
    "# o novo valor da coluna profissao vai ser o antigo valor da coluna profissao, porém aplicando o LabelEncoder()\n",
    "\n",
    "# codificador -> aplica na coluna \"mix_credito\"\n",
    "tabela[\"mix_credito\"] = codificador.fit_transform(tabela[\"mix_credito\"])\n",
    "\n",
    "# codificador -> aplica na coluna \"comportamento_pagamento\"\n",
    "tabela[\"comportamento_pagamento\"] = codificador.fit_transform(tabela[\"comportamento_pagamento\"])"
   ]
  },
  {
   "cell_type": "code",
   "execution_count": 5,
   "metadata": {},
   "outputs": [],
   "source": [
    "# x -> dados que quero usar para fazer a previsão (colunas da tabela)\n",
    "    # não vamos usar a coluna id_cliente porque ela é um número aleatório\n",
    "# y -> informações que eu quero prevê (colunas da tabela)\n",
    "\n",
    "y = tabela[\"score_credito\"]\n",
    "x = tabela.drop(columns=[\"id_cliente\",\"score_credito\"])\n",
    "\n",
    "# separando dados de teste e treino pelos dados de x y\n",
    "from sklearn.model_selection import train_test_split\n",
    "\n",
    "x_train, x_test, y_train, y_test = train_test_split(x,y, test_size=0.3)\n"
   ]
  },
  {
   "cell_type": "code",
   "execution_count": null,
   "metadata": {},
   "outputs": [],
   "source": [
    "# Passo 3- criar um modelo de IA -> score de crédito\n",
    "\n",
    "# MODELOS\n",
    "# Árvore de Decisão -> RandomForest\n",
    "# KNN -> Vizinhos Próximos -> Kneighbors\n",
    "\n",
    "# importa a inteligência artificial\n",
    "from sklearn.ensemble import RandomForestClassifier\n",
    "from sklearn.neighbors import KNeighborsClassifier\n",
    "\n",
    "# cria inteligencia artificial\n",
    "modelo_arvoreDecisao = RandomForestClassifier()\n",
    "modelo_knn = KNeighborsClassifier()\n",
    "\n",
    "# treinar a inteligencia artificial\n",
    "modelo_arvoreDecisao.fit(x_train,y_train)\n",
    "modelo_knn.fit(x_train,y_train)\n",
    "\n",
    "# testar os modelos 3 compara os modelos\n",
    "# faça uma previsao do modelo...\n",
    "previsao_arvoreDecisao = modelo_arvoreDecisao.predict(x_test)\n",
    "previsao_knn = modelo_knn.predict(x_test.to_numpy())\n",
    "\n",
    "# fazer a comparação entre os modelos para ver quem tem mais acurácia\n",
    "from sklearn.metrics import accuracy_score\n",
    "\n",
    "# comparar previsao com y_teste\n",
    "print(accuracy_score(y_test, previsao_arvoreDecisao))\n",
    "print(accuracy_score(y_test, previsao_knn))"
   ]
  },
  {
   "cell_type": "code",
   "execution_count": 9,
   "metadata": {},
   "outputs": [
    {
     "name": "stdout",
     "output_type": "stream",
     "text": [
      "['Poor' 'Good' 'Standard']\n"
     ]
    }
   ],
   "source": [
    "# melhor modelo: modelo_arvoreDecisao\n",
    "# fazer novas previsões\n",
    "# importar novos clientes\n",
    "tabela_novos_clientes = pd.read_csv(\"novos_clientes.csv\")\n",
    "\n",
    "# codificar os novos clientes \n",
    "tabela_novos_clientes[\"profissao\"] = codificador.fit_transform(tabela_novos_clientes[\"profissao\"])\n",
    "tabela_novos_clientes[\"mix_credito\"] = codificador.fit_transform(tabela_novos_clientes[\"mix_credito\"])\n",
    "tabela_novos_clientes[\"comportamento_pagamento\"] = codificador.fit_transform(tabela_novos_clientes[\"comportamento_pagamento\"])\n",
    "\n",
    "# fazer novas previsoes\n",
    "previsoes = modelo_arvoreDecisao.predict(tabela_novos_clientes)\n",
    "print(previsoes)"
   ]
  }
 ],
 "metadata": {
  "kernelspec": {
   "display_name": "Python 3",
   "language": "python",
   "name": "python3"
  },
  "language_info": {
   "codemirror_mode": {
    "name": "ipython",
    "version": 3
   },
   "file_extension": ".py",
   "mimetype": "text/x-python",
   "name": "python",
   "nbconvert_exporter": "python",
   "pygments_lexer": "ipython3",
   "version": "3.12.0"
  },
  "orig_nbformat": 4
 },
 "nbformat": 4,
 "nbformat_minor": 2
}
